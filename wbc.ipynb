{
  "cells": [
    {
      "cell_type": "code",
      "execution_count": null,
      "metadata": {
        "id": "_RXwJ6u9XYv2"
      },
      "outputs": [],
      "source": [
        "#importing libraries\n",
        "import pandas as pd \n",
        "import cv2 \n",
        "import glob\n",
        "import matplotlib.pyplot as plt  \n",
        "import matplotlib.image as mpimg\n",
        "from sklearn.model_selection import train_test_split\n",
        "import tensorflow\n",
        "import random\n",
        "from keras.callbacks import EarlyStopping\n",
        "from PIL import Image\n",
        "import h5py\n",
        "import os\n",
        "import numpy as np\n",
        "from keras import layers\n",
        "from keras import models\n",
        "from keras import optimizers\n",
        "from keras.preprocessing.image import ImageDataGenerator\n",
        "# from keras.preprocessing.image import img_to_array, load_img\n",
        "from keras.layers import Conv2D, MaxPooling2D, Flatten, Dense, Dropout,BatchNormalization\n",
        "import shutil\n",
        "from keras.callbacks import ModelCheckpoint\n",
        "from keras import applications\n",
        "from keras.models import Model\n",
        "from sklearn.metrics import confusion_matrix\n",
        "from sklearn.metrics import accuracy_score,precision_score,recall_score,f1_score\n",
        "import seaborn as sns\n",
        "from keras.optimizers import SGD\n",
        "import time \n",
        "import numpy as np\n",
        "import matplotlib.pyplot as plt\n",
        "from google.colab.patches import cv2_imshow\n",
        "import random\n",
        "import pickle\n",
        "import cv2\n",
        "import tensorflow as tf\n",
        "from tensorflow.python import keras\n",
        "from keras.layers import Dense, Conv2D, MaxPool2D, AveragePooling2D, Dropout, Flatten, Activation\n",
        "from keras import models, optimizers\n",
        "from keras.utils.np_utils import to_categorical\n",
        "from keras.preprocessing.image import ImageDataGenerator\n",
        "import os, time\n",
        "import random\n",
        "import keras.initializers\n",
        "from keras.initializers import glorot_uniform\n",
        "from keras.utils import CustomObjectScope\n"
      ]
    },
    {
      "cell_type": "code",
      "execution_count": null,
      "metadata": {
        "id": "yCFnzPcJBhrR"
      },
      "outputs": [],
      "source": [
        "#define model\n",
        "\n",
        "n_epochs = 200\n",
        "in_shape = (32,32,3)#X_train[0].shape\n",
        "print(in_shape)\n",
        "n_labels = 5\n",
        "drop_out = 0.2\n",
        "batch_size = 32\n",
        "\n",
        "def build_nn(in_shape,n_labels):\n",
        "    model = tf.keras.models.Sequential()\n",
        "    model.add(tf.keras.layers.Conv2D(16, (3,3), padding='same', activation = 'relu',input_shape = in_shape))\n",
        "    model.add(tf.keras.layers.MaxPool2D(pool_size=(1,1)))\n",
        "    model.add(tf.keras.layers.Conv2D(32, (3,3), padding='same', activation = 'relu'))\n",
        "    model.add(tf.keras.layers.MaxPool2D(pool_size=(2,2)))\n",
        "    model.add(tf.keras.layers.Conv2D(64, (3,3), padding='same', activation = 'relu'))\n",
        "    model.add(tf.keras.layers.MaxPool2D(pool_size=(2,2)))\n",
        "    model.add(tf.keras.layers.Conv2D(64, (3,3), padding='same', activation = 'relu'))\n",
        "    model.add(tf.keras.layers.MaxPool2D(pool_size=(2,2)))\n",
        "    model.add(tf.keras.layers.Flatten())   \n",
        "    model.add(tf.keras.layers.Dense(512,activation='relu'))\n",
        "    model.add(tf.keras.layers.Dropout(drop_out))\n",
        "    model.add(tf.keras.layers.Dense(n_labels,activation='softmax' ))\n",
        "    return model\n",
        "\n",
        "model = build_nn(in_shape,n_labels)\n",
        "model.summary()\n",
        "opt = tf.keras.optimizers.Adam(0.000087)\n",
        "model.compile(loss = loss_fnc, optimizer = opt, metrics=['accuracy'])"
      ]
    },
    {
      "cell_type": "code",
      "execution_count": null,
      "metadata": {
        "id": "5XRCENcsINNU"
      },
      "outputs": [],
      "source": [
        "checkpointer = tf.keras.callbacks.ModelCheckpoint(filepath=\"best_weights.hdf5\", \n",
        "                               monitor = 'val_accuracy',\n",
        "                               verbose=1, \n",
        "                               save_best_only=True)\n",
        "os.mkdir('my_log_dir')\n",
        "LR_dec = tf.keras.callbacks.ReduceLROnPlateau(monitor='val_accuracy',factor=0.78,patience=7,min_lr=0.000000008)\n",
        "tensorboardcallbacks=keras.callbacks.TensorBoard(log_dir='my_log_dir',histogram_freq=1)\n",
        "callbacks = [tensorboardcallbacks,LR_dec]\n",
        "loss_fnc = 'categorical_crossentropy'\n",
        "\n",
        "class_weight = {0: 1.,\n",
        "                1: 2.,\n",
        "                2: 1.,\n",
        "                3: 2.,\n",
        "                4: 1.}\n"
      ]
    },
    {
      "cell_type": "code",
      "execution_count": null,
      "metadata": {
        "id": "sY3KrzyAISps"
      },
      "outputs": [],
      "source": [
        "#load data\n",
        "\n",
        "train_datagen = ImageDataGenerator(rescale=1.0/255)\n",
        "train_generator=train_datagen.flow_from_directory('train', target_size=(32, 32),color_mode=\"rgb\",classes=None,class_mode=\"categorical\",batch_size=32,shuffle=True)\n",
        "val_datagen = ImageDataGenerator(rescale=1.0/255)\n",
        "val_generator=val_datagen.flow_from_directory('val', target_size=(32, 32),color_mode=\"rgb\",classes=None,class_mode=\"categorical\",batch_size=32,shuffle=False)\n"
      ]
    },
    {
      "cell_type": "code",
      "execution_count": null,
      "metadata": {
        "id": "-PzVQ1RvI74M"
      },
      "outputs": [],
      "source": [
        "#training\n",
        "history = model.fit_generator(train_generator,epochs=200,verbose=1,validation_data=val_generator, callbacks=callbacks,class_weight =class_weight)\n",
        "model.save_weights(\"weights_final.h5\")"
      ]
    },
    {
      "cell_type": "code",
      "execution_count": null,
      "metadata": {
        "id": "zNkGso5pI_gI"
      },
      "outputs": [],
      "source": [
        "# plot accuracy and loss\n",
        "\n",
        "print(history.history.keys())\n",
        "plt.plot(history.history['accuracy'])\n",
        "plt.plot(history.history['val_accuracy'])\n",
        "plt.title('model accuracy')\n",
        "plt.ylabel('accuracy')\n",
        "plt.xlabel('epoch')\n",
        "plt.legend(['train', 'test'], loc='lower right')\n",
        "plt.show()\n",
        "plt.plot(history.history['loss'])\n",
        "plt.plot(history.history['val_loss'])\n",
        "plt.title('model loss')\n",
        "plt.ylabel('loss')\n",
        "plt.xlabel('epoch')\n",
        "plt.legend(['train', 'test'], loc='upper right')\n",
        "plt.show()"
      ]
    },
    {
      "cell_type": "code",
      "execution_count": null,
      "metadata": {
        "id": "CHF2bw44SKRn"
      },
      "outputs": [],
      "source": [
        "cell_num = []\n",
        "\n",
        "cell_num.append(len(os.listdir('val/bas/'))\n",
        "cell_num.append(len(os.listdir('val/eso/'))\n",
        "cell_num.append(len(os.listdir('val/lam/'))\n",
        "cell_num.append(len(os.listdir('val/mono/'))\n",
        "cell_num.append(len(os.listdir('val/neu/'))"
      ]
    },
    {
      "cell_type": "code",
      "execution_count": null,
      "metadata": {
        "id": "ch8_1_DrJHQf"
      },
      "outputs": [],
      "source": [
        "#data validation label matrise\n",
        "val_class=[]\n",
        "\n",
        "for i in range(cell_num[0]):\n",
        "  val_class.append(0)\n",
        "for i in range(cell_num[1]):\n",
        "  val_class.append(1)\n",
        "for i in range(cell_num[2]):\n",
        "  val_class.append(2)\n",
        "for i in range(cell_num[3]):\n",
        "  val_class.append(3)\n",
        "for i in range(cell_num[4]):\n",
        "  val_class.append(4)\n",
        "\n",
        "y_inc=model.predict_generator(val_generator)\n",
        "ytest=np.argmax(y_inc,axis=1)  "
      ]
    },
    {
      "cell_type": "code",
      "execution_count": null,
      "metadata": {
        "id": "nnWMFpINJvFF"
      },
      "outputs": [],
      "source": [
        "#validation_class_accuracy\n",
        "j = 0\n",
        "val_class_accuracy = [] \n",
        "for i in range(5):\n",
        "  print(j,j+cell_num[i])\n",
        "  t = val_class[j:j+cell_num[i]]\n",
        "  y = ytest[j:j+cell_num[i]]\n",
        "  j+=cell_num[i]\n",
        "  acc = accuracy_score(y,t)\n",
        "  val_class_accuracy.append(acc)\n",
        "\n",
        "print(\"accuracy of bas: \",val_class_accuracy[0])\n",
        "print(\"accuracy of eso: \",val_class_accuracy[1])\n",
        "print(\"accuracy of lam: \",val_class_accuracy[2])\n",
        "print(\"accuracy of mono: \",val_class_accuracy[3])\n",
        "print(\"accuracy of neu: \",val_class_accuracy[4])"
      ]
    }
  ],
  "metadata": {
    "colab": {
      "provenance": []
    },
    "kernelspec": {
      "display_name": "Python 3",
      "name": "python3"
    },
    "language_info": {
      "name": "python"
    }
  },
  "nbformat": 4,
  "nbformat_minor": 0
}
